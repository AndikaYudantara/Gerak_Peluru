{
  "nbformat": 4,
  "nbformat_minor": 0,
  "metadata": {
    "kernelspec": {
      "name": "python3",
      "display_name": "Python 3",
      "language": "python"
    },
    "language_info": {
      "name": "python",
      "version": "3.6.7",
      "mimetype": "text/x-python",
      "codemirror_mode": {
        "name": "ipython",
        "version": 3
      },
      "pygments_lexer": "ipython3",
      "nbconvert_exporter": "python",
      "file_extension": ".py"
    },
    "colab": {
      "name": "Gerak_Peluru.ipynb",
      "provenance": [],
      "include_colab_link": true
    }
  },
  "cells": [
    {
      "cell_type": "markdown",
      "metadata": {
        "id": "view-in-github",
        "colab_type": "text"
      },
      "source": [
        "<a href=\"https://colab.research.google.com/github/AndikaYudantara/Gerak_Peluru/blob/master/Gerak_Peluru.ipynb\" target=\"_parent\"><img src=\"https://colab.research.google.com/assets/colab-badge.svg\" alt=\"Open In Colab\"/></a>"
      ]
    },
    {
      "cell_type": "code",
      "metadata": {
        "trusted": true,
        "id": "I7H-vZ_40ZyU",
        "colab_type": "code",
        "colab": {}
      },
      "source": [
        "import math\n",
        "import matplotlib.pyplot as plt\n",
        "%matplotlib inline"
      ],
      "execution_count": 0,
      "outputs": []
    },
    {
      "cell_type": "code",
      "metadata": {
        "trusted": true,
        "id": "49f3ZPon0Zya",
        "colab_type": "code",
        "colab": {}
      },
      "source": [
        "g = 9.806\n",
        "m = 0.15\n",
        "D = 0.0013\n",
        "step = 0.01\n",
        "sudut = 35\n",
        "v0 = 50\n",
        "x0 = 0\n",
        "y0 = 0\n",
        "t0 = 0"
      ],
      "execution_count": 0,
      "outputs": []
    },
    {
      "cell_type": "code",
      "metadata": {
        "trusted": true,
        "id": "uMu51QRZ0Zyd",
        "colab_type": "code",
        "colab": {}
      },
      "source": [
        "x1 = []\n",
        "y1 = []\n",
        "vx1 = []\n",
        "vy1 = []\n",
        "t1 = []"
      ],
      "execution_count": 0,
      "outputs": []
    },
    {
      "cell_type": "code",
      "metadata": {
        "trusted": true,
        "id": "oMIZcMy-0Zyg",
        "colab_type": "code",
        "colab": {}
      },
      "source": [
        "x1.append(x0)\n",
        "y1.append(y0)\n",
        "vx1.append(v0*math.cos(math.radians(sudut)))\n",
        "vy1.append(v0*math.sin(math.radians(sudut)))\n",
        "t1.append(t0)"
      ],
      "execution_count": 0,
      "outputs": []
    },
    {
      "cell_type": "code",
      "metadata": {
        "trusted": true,
        "id": "0vXV15tq0Zyk",
        "colab_type": "code",
        "colab": {}
      },
      "source": [
        "i = 0\n",
        "while y1[i]>=0 :\n",
        "    V = math.sqrt(math.pow(vx1[i], 2) + math.pow(vy1[i], 2))\n",
        "    ax = -(D/m) * V * vx1[i]\n",
        "    ay = -g-(D/m) * V * vy1[i]\n",
        "    vx1next  = vx1[i] + (ax * step)\n",
        "    x1next   = x1[i] + (vx1next * step)\n",
        "    vy1next  = vy1[i] + (ay * step)\n",
        "    y1next   = y1[i] + (vy1next * step)\n",
        "    t1next   = t1[i] + step\n",
        " \n",
        "    vx1.append(vx1next)\n",
        "    x1.append(x1next)\n",
        "    vy1.append(vy1next)\n",
        "    y1.append(y1next)\n",
        "    t1.append(t1next)\n",
        "    i += 1"
      ],
      "execution_count": 0,
      "outputs": []
    },
    {
      "cell_type": "code",
      "metadata": {
        "trusted": true,
        "id": "S7o8CanR0Zyn",
        "colab_type": "code",
        "colab": {}
      },
      "source": [
        "x2 = []\n",
        "y2 = []\n",
        "vy2 = []\n",
        "t2 = []"
      ],
      "execution_count": 0,
      "outputs": []
    },
    {
      "cell_type": "code",
      "metadata": {
        "trusted": true,
        "id": "hFU_PCLr0Zyq",
        "colab_type": "code",
        "colab": {}
      },
      "source": [
        "x2.append(x0)\n",
        "y2.append(y0)\n",
        "vx2 = v0*math.cos(math.radians(sudut))\n",
        "vy2.append(v0*math.sin(math.radians(sudut)))\n",
        "t2.append(t0)"
      ],
      "execution_count": 0,
      "outputs": []
    },
    {
      "cell_type": "code",
      "metadata": {
        "trusted": true,
        "id": "yIYPZ5FJ0Zyu",
        "colab_type": "code",
        "colab": {}
      },
      "source": [
        "j = 0\n",
        "while y2[j]>=0 :\n",
        "    x2next   = x2[j] + (vx2 * step);\n",
        "    vy2next  = vy2[j] + (-g * step);\n",
        "    y2next   = y2[j] + (vy2next * step);\n",
        "    t2next   = t2[j] + step;\n",
        "    x2.append(x2next);\n",
        "    vy2.append(vy2next);\n",
        "    y2.append(y2next);\n",
        "    t2.append(t2next);\n",
        "    j += 1"
      ],
      "execution_count": 0,
      "outputs": []
    },
    {
      "cell_type": "code",
      "metadata": {
        "trusted": true,
        "id": "sUQROLkV0Zyx",
        "colab_type": "code",
        "colab": {},
        "outputId": "d69bfe83-bcb6-4cdf-cf58-d15e588a4346"
      },
      "source": [
        "plt.plot(x1, y1)\n",
        "plt.plot(x2, y2)\n",
        "plt.show"
      ],
      "execution_count": 0,
      "outputs": [
        {
          "output_type": "execute_result",
          "data": {
            "text/plain": [
              "<function matplotlib.pyplot.show(*args, **kw)>"
            ]
          },
          "metadata": {
            "tags": []
          },
          "execution_count": 9
        },
        {
          "output_type": "display_data",
          "data": {
            "text/plain": [
              "<Figure size 432x288 with 1 Axes>"
            ],
            "image/png": "[encoded data removed]"
          },
          "metadata": {
            "tags": [],
            "needs_background": "light"
          }
        }
      ]
    },
    {
      "cell_type": "code",
      "metadata": {
        "trusted": true,
        "id": "EJx1-X1R0Zy1",
        "colab_type": "code",
        "colab": {}
      },
      "source": [
        "x3 = [x0]\n",
        "y3 = [y0]\n",
        "vy3 = [vy2[0]]\n",
        "t3 = [t0]"
      ],
      "execution_count": 0,
      "outputs": []
    },
    {
      "cell_type": "code",
      "metadata": {
        "trusted": true,
        "id": "yguFtFjN0Zy4",
        "colab_type": "code",
        "colab": {}
      },
      "source": [
        "k = 0\n",
        "while y3[k]>=0 :\n",
        "    t = t3[k]\n",
        "    x = x0 + (vx2 * t)\n",
        "    y = y0 + (vy2[0] * t) - (0.5 * g * t * t)\n",
        "    x3.append(x)\n",
        "    y3.append(y)\n",
        "    t3.append(t3[k] + step)\n",
        "    k += 1"
      ],
      "execution_count": 0,
      "outputs": []
    },
    {
      "cell_type": "code",
      "metadata": {
        "trusted": true,
        "id": "1DZxc23w0Zy7",
        "colab_type": "code",
        "colab": {},
        "outputId": "44d70575-1be0-45cf-9bb6-642e236798b6"
      },
      "source": [
        "plt.plot(x3, y3)\n",
        "plt.plot(x2, y2)\n",
        "plt.show"
      ],
      "execution_count": 0,
      "outputs": [
        {
          "output_type": "execute_result",
          "data": {
            "text/plain": [
              "<function matplotlib.pyplot.show(*args, **kw)>"
            ]
          },
          "metadata": {
            "tags": []
          },
          "execution_count": 13
        },
        {
          "output_type": "display_data",
          "data": {
            "text/plain": [
              "<Figure size 432x288 with 1 Axes>"
            ],
            "image/png": "[encoded data removed]"
          },
          "metadata": {
            "tags": [],
            "needs_background": "light"
          }
        }
      ]
    },
    {
      "cell_type": "code",
      "metadata": {
        "trusted": true,
        "id": "mF-ZqdtL0Zy-",
        "colab_type": "code",
        "colab": {}
      },
      "source": [
        ""
      ],
      "execution_count": 0,
      "outputs": []
    }
  ]
}