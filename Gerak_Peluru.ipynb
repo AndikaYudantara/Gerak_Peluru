{
  "nbformat": 4,
  "nbformat_minor": 0,
  "metadata": {
    "kernelspec": {
      "name": "python3",
      "display_name": "Python 3",
      "language": "python"
    },
    "language_info": {
      "name": "python",
      "version": "3.6.7",
      "mimetype": "text/x-python",
      "codemirror_mode": {
        "name": "ipython",
        "version": 3
      },
      "pygments_lexer": "ipython3",
      "nbconvert_exporter": "python",
      "file_extension": ".py"
    },
    "colab": {
      "name": "Gerak_Peluru.ipynb",
      "provenance": [],
      "collapsed_sections": [],
      "include_colab_link": true
    }
  },
  "cells": [
    {
      "cell_type": "markdown",
      "metadata": {
        "id": "view-in-github",
        "colab_type": "text"
      },
      "source": [
        "<a href=\"https://colab.research.google.com/github/AndikaYudantara/Gerak_Peluru/blob/master/Gerak_Peluru.ipynb\" target=\"_parent\"><img src=\"https://colab.research.google.com/assets/colab-badge.svg\" alt=\"Open In Colab\"/></a>"
      ]
    },
    {
      "cell_type": "markdown",
      "metadata": {
        "id": "NYqb8oZn6Wi6",
        "colab_type": "text"
      },
      "source": [
        "# Import dan Inisialisasi nilai awal"
      ]
    },
    {
      "cell_type": "code",
      "metadata": {
        "trusted": true,
        "id": "I7H-vZ_40ZyU",
        "colab_type": "code",
        "colab": {}
      },
      "source": [
        "import math\n",
        "import matplotlib.pyplot as plt\n",
        "%matplotlib inline"
      ],
      "execution_count": 0,
      "outputs": []
    },
    {
      "cell_type": "code",
      "metadata": {
        "trusted": true,
        "id": "49f3ZPon0Zya",
        "colab_type": "code",
        "colab": {}
      },
      "source": [
        "g = 9.806\n",
        "m = 0.15\n",
        "D = 0.0013\n",
        "step = 0.01\n",
        "sudut = 35\n",
        "v0 = 50\n",
        "x0 = 0\n",
        "y0 = 0\n",
        "t0 = 0"
      ],
      "execution_count": 0,
      "outputs": []
    },
    {
      "cell_type": "markdown",
      "metadata": {
        "id": "jzRBHXd46jbS",
        "colab_type": "text"
      },
      "source": [
        "# 1. Perbandingan antara ada dan tanpa hambatan udara"
      ]
    },
    {
      "cell_type": "code",
      "metadata": {
        "trusted": true,
        "id": "uMu51QRZ0Zyd",
        "colab_type": "code",
        "colab": {}
      },
      "source": [
        "# ADA HAMBATAN\n",
        "# ininsialisasi array\n",
        "x1 = []\n",
        "y1 = []\n",
        "vx1 = []\n",
        "vy1 = []\n",
        "t1 = []"
      ],
      "execution_count": 0,
      "outputs": []
    },
    {
      "cell_type": "code",
      "metadata": {
        "trusted": true,
        "id": "oMIZcMy-0Zyg",
        "colab_type": "code",
        "colab": {}
      },
      "source": [
        "# append nilai awal ke array\n",
        "x1.append(x0)\n",
        "y1.append(y0)\n",
        "vx1.append(v0*math.cos(math.radians(sudut)))\n",
        "vy1.append(v0*math.sin(math.radians(sudut)))\n",
        "t1.append(t0)"
      ],
      "execution_count": 0,
      "outputs": []
    },
    {
      "cell_type": "code",
      "metadata": {
        "trusted": true,
        "id": "0vXV15tq0Zyk",
        "colab_type": "code",
        "colab": {}
      },
      "source": [
        "# looping dan hitung nilai x, y, vx, vy setiap time step secara numerik\n",
        "i = 0\n",
        "while y1[i]>=0 :\n",
        "    V = math.sqrt(math.pow(vx1[i], 2) + math.pow(vy1[i], 2))\n",
        "    ax = -(D/m) * V * vx1[i]\n",
        "    ay = -g-(D/m) * V * vy1[i]\n",
        "    vx1next  = vx1[i] + (ax * step)\n",
        "    x1next   = x1[i] + (vx1next * step)\n",
        "    vy1next  = vy1[i] + (ay * step)\n",
        "    y1next   = y1[i] + (vy1next * step)\n",
        "    t1next   = t1[i] + step\n",
        " \n",
        "    vx1.append(vx1next)\n",
        "    x1.append(x1next)\n",
        "    vy1.append(vy1next)\n",
        "    y1.append(y1next)\n",
        "    t1.append(t1next)\n",
        "    i += 1"
      ],
      "execution_count": 0,
      "outputs": []
    },
    {
      "cell_type": "code",
      "metadata": {
        "trusted": true,
        "id": "S7o8CanR0Zyn",
        "colab_type": "code",
        "colab": {}
      },
      "source": [
        "# TANPA HAMBATAN\n",
        "# inisialisasi array\n",
        "x2 = []\n",
        "y2 = []\n",
        "vy2 = []\n",
        "t2 = []"
      ],
      "execution_count": 0,
      "outputs": []
    },
    {
      "cell_type": "code",
      "metadata": {
        "trusted": true,
        "id": "hFU_PCLr0Zyq",
        "colab_type": "code",
        "colab": {}
      },
      "source": [
        "#  append nilai awal ke array (kecuali  vx)\n",
        "x2.append(x0)\n",
        "y2.append(y0)\n",
        "vx2 = v0*math.cos(math.radians(sudut))\n",
        "vy2.append(v0*math.sin(math.radians(sudut)))\n",
        "t2.append(t0)"
      ],
      "execution_count": 0,
      "outputs": []
    },
    {
      "cell_type": "code",
      "metadata": {
        "trusted": true,
        "id": "yIYPZ5FJ0Zyu",
        "colab_type": "code",
        "colab": {}
      },
      "source": [
        "# looping dan hitung nilai x, y, vy setiap time step secara numerik\n",
        "j = 0\n",
        "while y2[j]>=0 :\n",
        "    x2next   = x2[j] + (vx2 * step);\n",
        "    vy2next  = vy2[j] + (-g * step);\n",
        "    y2next   = y2[j] + (vy2next * step);\n",
        "    t2next   = t2[j] + step;\n",
        "    x2.append(x2next);\n",
        "    vy2.append(vy2next);\n",
        "    y2.append(y2next);\n",
        "    t2.append(t2next);\n",
        "    j += 1"
      ],
      "execution_count": 0,
      "outputs": []
    },
    {
      "cell_type": "code",
      "metadata": {
        "trusted": true,
        "id": "sUQROLkV0Zyx",
        "colab_type": "code",
        "outputId": "2f7bf44a-12c0-4b4f-8854-baa0987dfe8a",
        "colab": {
          "base_uri": "https://localhost:8080/",
          "height": 282
        }
      },
      "source": [
        "# plot array yang ada hambatan (x1, y1) dan tanpa hambatan (x2, y2)\n",
        "plt.plot(x1, y1)\n",
        "plt.plot(x2, y2)\n",
        "plt.show"
      ],
      "execution_count": 10,
      "outputs": [
        {
          "output_type": "execute_result",
          "data": {
            "text/plain": [
              "<function matplotlib.pyplot.show>"
            ]
          },
          "metadata": {
            "tags": []
          },
          "execution_count": 10
        },
        {
          "output_type": "display_data",
          "data": {
            "image/png": "[encoded data removed]",
            "text/plain": [
              "<Figure size 432x288 with 1 Axes>"
            ]
          },
          "metadata": {
            "tags": []
          }
        }
      ]
    },
    {
      "cell_type": "markdown",
      "metadata": {
        "id": "p6duSw2a6ScW",
        "colab_type": "text"
      },
      "source": [
        "# 2. Perbadingan antara hasil analitik dan numerik tanpa hambatan udara"
      ]
    },
    {
      "cell_type": "code",
      "metadata": {
        "trusted": true,
        "id": "EJx1-X1R0Zy1",
        "colab_type": "code",
        "colab": {}
      },
      "source": [
        "#inisialisasi array dan memasukan nilai awal\n",
        "x3 = [x0]\n",
        "y3 = [y0]\n",
        "vy3 = [vy2[0]]\n",
        "t3 = [t0]"
      ],
      "execution_count": 0,
      "outputs": []
    },
    {
      "cell_type": "code",
      "metadata": {
        "trusted": true,
        "id": "yguFtFjN0Zy4",
        "colab_type": "code",
        "colab": {}
      },
      "source": [
        "# looping dan menghitung nilai x, y, vy, setiap time step secara analitik\n",
        "k = 0\n",
        "# valx = 0\n",
        "# valy = 0\n",
        "while y3[k]>=0 :\n",
        "    t = t3[k]\n",
        "    x = x0 + (vx2 * t)\n",
        "    y = y0 + (vy2[0] * t) - (0.5 * g * t * t)\n",
        "    x3.append(x)\n",
        "    y3.append(y)\n",
        "    t3.append(t3[k] + step)\n",
        "    # if x!=0 and y!=0:\n",
        "    #   valx = x2[k]/x\n",
        "    #   valy = y2[k]/y\n",
        "    #   print(valx, valy)\n",
        "    k += 1\n",
        "    "
      ],
      "execution_count": 0,
      "outputs": []
    },
    {
      "cell_type": "code",
      "metadata": {
        "trusted": true,
        "id": "1DZxc23w0Zy7",
        "colab_type": "code",
        "outputId": "e9083ddb-13f4-4101-d2b4-f06cf4ba69d8",
        "colab": {
          "base_uri": "https://localhost:8080/",
          "height": 282
        }
      },
      "source": [
        "# plot array tanpa hambatan yang digitung secara numerik (x2, y2) dan secara analitik (x3, y3)\n",
        "plt.plot(x2, y2)\n",
        "plt.plot(x3, y3)\n",
        "plt.show"
      ],
      "execution_count": 13,
      "outputs": [
        {
          "output_type": "execute_result",
          "data": {
            "text/plain": [
              "<function matplotlib.pyplot.show>"
            ]
          },
          "metadata": {
            "tags": []
          },
          "execution_count": 13
        },
        {
          "output_type": "display_data",
          "data": {
            "image/png": "[encoded data removed]",
            "text/plain": [
              "<Figure size 432x288 with 1 Axes>"
            ]
          },
          "metadata": {
            "tags": []
          }
        }
      ]
    }
  ]
}